{
 "cells": [
  {
   "cell_type": "markdown",
   "metadata": {},
   "source": [
    "**Brief Honor Code**. Do the homework on your own. You may discuss ideas with your classmates, but DO NOT copy the solutions from someone else or the Internet. If stuck, discuss with TA."
   ]
  },
  {
   "cell_type": "markdown",
   "metadata": {},
   "source": [
    "**1**. (10 points) \n",
    "\n",
    "Rewrite the following code into functional form using lambdas, map, filter and reduce."
   ]
  },
  {
   "cell_type": "code",
   "execution_count": 1,
   "metadata": {},
   "outputs": [
    {
     "data": {
      "text/plain": [
       "123"
      ]
     },
     "execution_count": 1,
     "metadata": {},
     "output_type": "execute_result"
    }
   ],
   "source": [
    "n = 10\n",
    "s = 10\n",
    "for i in range(n):\n",
    "    if i % 2:\n",
    "        s = s| i**2\n",
    "s"
   ]
  },
  {
   "cell_type": "code",
   "execution_count": 2,
   "metadata": {},
   "outputs": [],
   "source": [
    "from functools import reduce"
   ]
  },
  {
   "cell_type": "code",
   "execution_count": 3,
   "metadata": {},
   "outputs": [
    {
     "data": {
      "text/plain": [
       "123"
      ]
     },
     "execution_count": 3,
     "metadata": {},
     "output_type": "execute_result"
    }
   ],
   "source": [
    "reduce(lambda x, y: x | y, list(map(lambda x: x**2,list(filter(lambda x: x % 2, range(10))))),10)"
   ]
  },
  {
   "cell_type": "markdown",
   "metadata": {},
   "source": [
    "**2**. (10 points)\n",
    "\n",
    "Rewrite the code above as a `toolz` pipeline, using lambdas and curried or partially applied functions as necessary."
   ]
  },
  {
   "cell_type": "markdown",
   "metadata": {},
   "source": [
    "#### Method 1"
   ]
  },
  {
   "cell_type": "code",
   "execution_count": 4,
   "metadata": {},
   "outputs": [],
   "source": [
    "import toolz as tz\n",
    "import toolz.curried as c\n",
    "\n",
    "res=tz.pipe(\n",
    "    range(10),\n",
    "    c.map(lambda x: x**2),\n",
    "    c.filter(lambda x: x % 2),\n",
    "    c.reduce(lambda x, y: x | y ),\n",
    "    lambda x: x|10\n",
    ")"
   ]
  },
  {
   "cell_type": "code",
   "execution_count": 5,
   "metadata": {},
   "outputs": [
    {
     "data": {
      "text/plain": [
       "123"
      ]
     },
     "execution_count": 5,
     "metadata": {},
     "output_type": "execute_result"
    }
   ],
   "source": [
    "res"
   ]
  },
  {
   "cell_type": "markdown",
   "metadata": {},
   "source": [
    "#### Method 2"
   ]
  },
  {
   "cell_type": "code",
   "execution_count": 6,
   "metadata": {},
   "outputs": [],
   "source": [
    "res2=tz.pipe(\n",
    "    range(10),\n",
    "    c.map(lambda x: x**2),\n",
    "    c.filter(lambda x: x % 2),\n",
    "    list,\n",
    "    lambda x: x+[10],\n",
    "    c.reduce(lambda x, y: x | y ),\n",
    ")"
   ]
  },
  {
   "cell_type": "code",
   "execution_count": 7,
   "metadata": {},
   "outputs": [
    {
     "data": {
      "text/plain": [
       "123"
      ]
     },
     "execution_count": 7,
     "metadata": {},
     "output_type": "execute_result"
    }
   ],
   "source": [
    "res2"
   ]
  },
  {
   "cell_type": "markdown",
   "metadata": {},
   "source": [
    "**3**. (10 points) \n",
    "\n",
    "Repeat the Buffon's needle simulation from Lab01 as a function that takes the number of needels `n` as input and returns the estimate of $\\pi$. The function should use `numpy` and vectorization.  What is $\\pi$ for 1 million needles?"
   ]
  },
  {
   "cell_type": "code",
   "execution_count": 8,
   "metadata": {},
   "outputs": [],
   "source": [
    "import random \n",
    "from numpy import pi, sin\n",
    "\n",
    "def buffon(L, D, N):\n",
    "    \"\"\" function to simulate the buffon's needle experiment\n",
    "        L is the length of the needle, \n",
    "        D is the difference between two lines\n",
    "        N is the number of times to drop the needle\n",
    "    \"\"\"\n",
    "    count= 0; \n",
    "    for loop in range(N) :\n",
    "        theta = pi*random.uniform(0,180)/180\n",
    "        if L * sin(theta) > random.uniform(0,D): \n",
    "            count += 1\n",
    "    est=count/N\n",
    "    Pi_est = (2*L) / (est*D)\n",
    "    return Pi_est"
   ]
  },
  {
   "cell_type": "code",
   "execution_count": 9,
   "metadata": {},
   "outputs": [
    {
     "data": {
      "text/plain": [
       "3.1405457012210443"
      ]
     },
     "execution_count": 9,
     "metadata": {},
     "output_type": "execute_result"
    }
   ],
   "source": [
    "L = 1\n",
    "D = 4\n",
    "N = int(1e6) \n",
    "buffon(L, D, N)"
   ]
  },
  {
   "cell_type": "markdown",
   "metadata": {},
   "source": [
    "**4**. (20 points) \n",
    "\n",
    "Simpsons rule is given by the follwoing approximation\n",
    "\n",
    "![Simpsons](https://wikimedia.org/api/rest_v1/media/math/render/svg/a0cdf0804bb8810e4438cbea898dc7a2fedb3e57)\n",
    "\n",
    "- Write Simpsons rule as a function `simpsons(f, a, b, n=100)` where n is the number of equally spaced intervals from `a` to `b`.  (10 points)\n",
    "- Use this function to estimate the probability mass of the standard normal distribution between -1 and 1. Implement the PDF of the standard normal distribution $\\psi(x)$ as a function. (10 points)\n",
    "\n",
    "$$\n",
    "\\psi(x) = \\frac{1}{\\sqrt{2\\pi}}e^{-\\frac{1}{2}x^2}\n",
    "$$"
   ]
  },
  {
   "cell_type": "code",
   "execution_count": 10,
   "metadata": {},
   "outputs": [],
   "source": [
    "import numpy as np"
   ]
  },
  {
   "cell_type": "code",
   "execution_count": 11,
   "metadata": {},
   "outputs": [],
   "source": [
    "def normal(x):\n",
    "    \"\"\" function to get the pdf of a normal distribution\n",
    "    \"\"\"\n",
    "    res=(1/np.sqrt(2*np.pi))*np.exp(-0.5*(x**2))\n",
    "    return(res)"
   ]
  },
  {
   "cell_type": "code",
   "execution_count": 12,
   "metadata": {},
   "outputs": [],
   "source": [
    "def simpsons(f,a,b,n=100):\n",
    "    \"\"\" function for the using of simpsons methods to estimate the intergation values\n",
    "    \"\"\"\n",
    "    h=(b-a)\n",
    "    x=np.arange(a, b, h/n)\n",
    "    temp=f(x[0])+f(x[n-1])\n",
    "    even=0\n",
    "    odd=0\n",
    "    N=len(x)\n",
    "    for i in range(1,N):\n",
    "        if i % 2==0:\n",
    "            even=even+2*f(x[i])\n",
    "        else:\n",
    "            odd=odd+4*f(x[i])\n",
    "    res=(temp+even+odd)*h/(3*N)\n",
    "    return(res)"
   ]
  },
  {
   "cell_type": "code",
   "execution_count": 13,
   "metadata": {},
   "outputs": [
    {
     "data": {
      "text/plain": [
       "0.6827217514378684"
      ]
     },
     "execution_count": 13,
     "metadata": {},
     "output_type": "execute_result"
    }
   ],
   "source": [
    "simpsons(normal,-1,1,n=100)"
   ]
  },
  {
   "cell_type": "markdown",
   "metadata": {},
   "source": [
    "**5**. (50 points)\n",
    "\n",
    "Write code to generate a plot similar to the following \n",
    "\n",
    "![automata](./automata1d.png)\n",
    "\n",
    "using the explanation for generation of 1D Cellular Automata found [here](http://mathworld.wolfram.com/ElementaryCellularAutomaton.html). You should only need to use standard Python, `numpy` and `matplotllib`.\n",
    "\n",
    "The input to the function making the plots should be a simple list of rules\n",
    "\n",
    "```python\n",
    "rules = [30, 54, 60, 62, 90, 94, 102, 110, 122, 126, \n",
    "         150, 158, 182, 188, 190, 220, 222, 250]\n",
    "make_plots(rules, niter, ncols)\n",
    "```\n",
    "\n",
    "You may, of course, write other helper functions to keep your code modular."
   ]
  },
  {
   "cell_type": "code",
   "execution_count": 3,
   "metadata": {},
   "outputs": [],
   "source": [
    "%matplotlib inline\n",
    "import matplotlib.pyplot as plt\n",
    "import numpy as np"
   ]
  },
  {
   "cell_type": "code",
   "execution_count": 15,
   "metadata": {},
   "outputs": [],
   "source": [
    "def make_plots(rules, niter,ncols):\n",
    "    \"\"\"Function to generate of 1D Cellular Automata;\n",
    "       type in the rules, a list of number from 0 to 255;\n",
    "       niter is the number of rows in the plot\n",
    "       ncols is the number of columns in the plot\n",
    "    \"\"\"\n",
    "    fig, axes = plt.subplots(niter, ncols, figsize=(12, 18))\n",
    "    rule=np.array([1,1,1,1,1,0,1,0,1,1,0,0,0,1,1,0,1,0,0,0,1,0,0,0]).reshape((8,3))\n",
    "    rules_new=np.array(rules).reshape((niter,ncols))\n",
    "    for rows in range(niter):\n",
    "        for cols in range(ncols):\n",
    "            r=rules_new[rows][cols]\n",
    "            binary=list(np.binary_repr(r,width=8))\n",
    "            binary = list(map(int, binary))\n",
    "            def next_line(start):\n",
    "                \"\"\"Function to generate of 1D Cellular Automata;\n",
    "                   Can get the numbers of each cell;\n",
    "                   start determines the number of iterations. \n",
    "                \"\"\"\n",
    "                res=[]\n",
    "                res.append(np.array([start[30],start[0],start[1]]))\n",
    "                for i in range(29):\n",
    "                    res.append(start[(i):(i+3)])\n",
    "                res.append(np.array([start[29],start[30],start[0]]))\n",
    "                point=[]\n",
    "                for i in range(31):\n",
    "                    temp=res[i]\n",
    "                    temp2= temp==rule\n",
    "                    num=np.where(np.sum(temp2,axis=1)==3)[0][0]\n",
    "                    point.append(binary[num])\n",
    "                return(point)\n",
    "            xs=np.zeros((16,31))\n",
    "            xs[0,15]=1\n",
    "            start=xs[0,]\n",
    "            res=list(start)\n",
    "            temp=start\n",
    "            for i in range(15):\n",
    "                temp=next_line(temp)\n",
    "                res=res+temp\n",
    "            xs=np.array(res).reshape((16,31))\n",
    "            \n",
    "            name='Rule ' + str(r)\n",
    "\n",
    "            axes[rows][cols].imshow(xs, cmap='Greys', interpolation='nearest')\n",
    "            axes[rows][cols].set_title(name,fontsize=12)\n",
    "            axes[rows][cols].set_xticks(np.arange(0.5, 30.5, 1));\n",
    "            axes[rows][cols].set_yticks(np.arange(0.5, 15.5, 1));\n",
    "            axes[rows][cols].set_xticks(np.arange(-.5, 30.5, 1), minor=True);\n",
    "            axes[rows][cols].set_yticks(np.arange(-.5, 15.5, 1), minor=True);\n",
    "            axes[rows][cols].grid(which='minor', color='black', linestyle='-', linewidth=0.5)\n",
    "            axes[rows][cols].set_xticks([])\n",
    "            axes[rows][cols].set_yticks([])\n",
    "            pass"
   ]
  },
  {
   "cell_type": "code",
   "execution_count": 16,
   "metadata": {},
   "outputs": [],
   "source": [
    "rules = [30, 54, 60, 62, 90, 94, 102, 110, 122, 126, \n",
    "         150, 158, 182, 188, 190, 220, 222, 250]"
   ]
  },
  {
   "cell_type": "code",
   "execution_count": 17,
   "metadata": {},
   "outputs": [
    {
     "data": {
      "image/png": "[encoded data removed]",
      "text/plain": [
       "<matplotlib.figure.Figure at 0x7fd2e5528ac8>"
      ]
     },
     "metadata": {},
     "output_type": "display_data"
    }
   ],
   "source": [
    "make_plots(rules, 6,3)"
   ]
  },
  {
   "cell_type": "code",
   "execution_count": null,
   "metadata": {},
   "outputs": [],
   "source": []
  }
 ],
 "metadata": {
  "kernelspec": {
   "display_name": "Python 3",
   "language": "python",
   "name": "python3"
  },
  "language_info": {
   "codemirror_mode": {
    "name": "ipython",
    "version": 3
   },
   "file_extension": ".py",
   "mimetype": "text/x-python",
   "name": "python",
   "nbconvert_exporter": "python",
   "pygments_lexer": "ipython3",
   "version": "3.6.3"
  }
 },
 "nbformat": 4,
 "nbformat_minor": 2
}
