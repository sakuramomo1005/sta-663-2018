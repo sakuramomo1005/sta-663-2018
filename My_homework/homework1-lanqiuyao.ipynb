{
 "cells": [
  {
   "cell_type": "markdown",
   "metadata": {},
   "source": [
    "For this first set of exercises, we want to practice using only Python standard libaries. In particular, do not include `numpy`. Use `math` and `random` instead."
   ]
  },
  {
   "cell_type": "markdown",
   "metadata": {},
   "source": [
    "# Python data types, collections and flow control"
   ]
  },
  {
   "cell_type": "markdown",
   "metadata": {},
   "source": [
    "**1**. Make a list of the first 10 odd square numbers. (10 points)"
   ]
  },
  {
   "cell_type": "code",
   "execution_count": 3,
   "metadata": {
    "scrolled": true
   },
   "outputs": [
    {
     "data": {
      "text/plain": [
       "[1, 9, 25, 49, 81, 121, 169, 225, 289, 361]"
      ]
     },
     "execution_count": 3,
     "metadata": {},
     "output_type": "execute_result"
    }
   ],
   "source": [
    "[i**2 for i in range(0,20) if i%2!=0]"
   ]
  },
  {
   "cell_type": "markdown",
   "metadata": {},
   "source": [
    "**2**. Some code is given below to generate two long lists of random interges. Find the integers present in both lists. (10 points)"
   ]
  },
  {
   "cell_type": "code",
   "execution_count": 4,
   "metadata": {},
   "outputs": [],
   "source": [
    "import random\n",
    "\n",
    "random.seed(123)\n",
    "\n",
    "lower = 0\n",
    "upper = 100000\n",
    "n = 1000\n",
    "\n",
    "x = [random.randint(lower, upper) for i in range(n)]\n",
    "y = [random.randint(lower, upper) for i in range(n)]"
   ]
  },
  {
   "cell_type": "code",
   "execution_count": 5,
   "metadata": {},
   "outputs": [
    {
     "data": {
      "text/plain": [
       "{2137, 8420, 8509, 18836, 25227, 35160, 49492, 56780, 59512, 88500, 99469}"
      ]
     },
     "execution_count": 5,
     "metadata": {},
     "output_type": "execute_result"
    }
   ],
   "source": [
    "set(x).intersection(y)"
   ]
  },
  {
   "cell_type": "code",
   "execution_count": 6,
   "metadata": {},
   "outputs": [
    {
     "name": "stdout",
     "output_type": "stream",
     "text": [
      "the integers present in both lists: [8420, 25227, 56780, 99469, 18836, 88500, 49492, 35160, 2137, 59512, 8509]\n"
     ]
    }
   ],
   "source": [
    "print('the integers present in both lists: {}'.format(list(set(x).intersection(y))))"
   ]
  },
  {
   "cell_type": "markdown",
   "metadata": {},
   "source": [
    "**3**. Make a list of the first 100 [triangular numbers](https://en.wikipedia.org/wiki/Triangular_number) starting from 0. (20 points)"
   ]
  },
  {
   "cell_type": "code",
   "execution_count": 7,
   "metadata": {},
   "outputs": [],
   "source": [
    "xs=[0]\n",
    "for i in range(100):\n",
    "    temp=xs[i]+i\n",
    "    xs.append(temp)"
   ]
  },
  {
   "cell_type": "code",
   "execution_count": 8,
   "metadata": {
    "scrolled": true
   },
   "outputs": [
    {
     "name": "stdout",
     "output_type": "stream",
     "text": [
      "[0, 1, 3, 6, 10, 15, 21, 28, 36, 45, 55, 66, 78, 91, 105, 120, 136, 153, 171, 190, 210, 231, 253, 276, 300, 325, 351, 378, 406, 435, 465, 496, 528, 561, 595, 630, 666, 703, 741, 780, 820, 861, 903, 946, 990, 1035, 1081, 1128, 1176, 1225, 1275, 1326, 1378, 1431, 1485, 1540, 1596, 1653, 1711, 1770, 1830, 1891, 1953, 2016, 2080, 2145, 2211, 2278, 2346, 2415, 2485, 2556, 2628, 2701, 2775, 2850, 2926, 3003, 3081, 3160, 3240, 3321, 3403, 3486, 3570, 3655, 3741, 3828, 3916, 4005, 4095, 4186, 4278, 4371, 4465, 4560, 4656, 4753, 4851, 4950]\n"
     ]
    }
   ],
   "source": [
    "xs=xs[1:]\n",
    "len(xs)\n",
    "print(xs)"
   ]
  },
  {
   "cell_type": "markdown",
   "metadata": {},
   "source": [
    "**4**. A DNA seqeunce is provided below. It should be treated as a single seqeunce - it is borken into multiple lines for display purposes.\n",
    "\n",
    "- Find the ratio of the base 'G' to the base 'C'\n",
    "- What is the reverse complement of the DNA sequence? (The complementary bases are A=T, C=G)\n",
    "- Make a dictionary of counts for each letter in the sequence. Do not count the newline character.\n",
    "\n",
    "(20 points)"
   ]
  },
  {
   "cell_type": "code",
   "execution_count": 9,
   "metadata": {},
   "outputs": [],
   "source": [
    "dna = \"\"\"\n",
    "TTTAAATTCCCTGGCACCCGCTGGAGTTCTCGATTTCGAC\n",
    "CAACCACGACGGTGTGATTCTGAATGTAGTTAGTATCTAC\n",
    "CCAGAGCTCAGGTCATATCGCGCCAAGCATAAAGGTGGCT\n",
    "GTTGAAAGTCGATGTCCGTATAAGTTCCGTTTCCTAATGA\n",
    "AACTGCTACGTAAGTCTAAAGTTATGAGCGCGGGCCGGGT\n",
    "TAAGGAAGCCCTACGGTTACTATATTACGCCAATATTTCT\n",
    "CATTCCCTTGCTTTGTTGATTAGGACAGAGGTCACCACAC\n",
    "CCGGAAGCCCGGTTCACGAGCTCCATCCAACGAGCCTTGC\n",
    "GAGGTATCGAGCAAACCAATATACTGCTAGGATCCGGTCT\n",
    "GGCGTTTTACCCCCATGAGATATAGTCCAGGTACTAAAAC\n",
    "CCTTCACCAGGGCAGAAGCGGGGTATACGCTGCCTACTCG\n",
    "TCATACAATTTCGGCTGGAGTTCGGTACGATAGACCGAGT\n",
    "CTGTCGGATACCCGGAAGAGTCACTCTGAAGTTGTACGAG\n",
    "GTGACTAGCTCAAAAGGAAGGGCGAAGAATGGTATGGTAC\n",
    "TCTAGAGCAGGCCATCTTTTACATAGGGCCCTTTGTTACC\n",
    "TTATGTAATGAACGTGGGAGCCCCGGACGTAAATTCTTTA\n",
    "GTCTCCCTAGACGCGTGGTCCCCACTAAATATACATGGTG\n",
    "AGCATCGCAGATACATGGCTTATCGAGGCCCGGGTCGTCA\n",
    "GAAAACGCGGTAAGTCATACGCATGTGCGGCGAATTAGCT\n",
    "TAGGGTGCGCATCTTCAAGCGGAAGTTCCCCCCGAGTGTC\n",
    "GACGCGTTCGTGCCATTAAAGCGTCTTCGAGTACGAATTA\n",
    "GACCAAGTCTGACGAAATTGCCTGAAGTTATAGGGGAAGT\n",
    "AGTCGAAGGGGACGGAGAACTTGTGAATCATAGCGCATGA\n",
    "GGAGATTAAGTCGGTTCATCAGCGTAACCACTTTAACCAC\n",
    "TAGTACGACCCCTGGATGAGTATTGTTCGTGTGTTTCCTC\n",
    "\"\"\""
   ]
  },
  {
   "cell_type": "code",
   "execution_count": 10,
   "metadata": {
    "scrolled": true
   },
   "outputs": [
    {
     "data": {
      "text/plain": [
       "'\\nTTTAAATTCCCTGGCACCCGCTGGAGTTCTCGATTTCGAC\\nCAACCACGACGGTGTGATTCTGAATGTAGTTAGTATCTAC\\nCCAGAGCTCAGGTCATATCGCGCCAAGCATAAAGGTGGCT\\nGTTGAAAGTCGATGTCCGTATAAGTTCCGTTTCCTAATGA\\nAACTGCTACGTAAGTCTAAAGTTATGAGCGCGGGCCGGGT\\nTAAGGAAGCCCTACGGTTACTATATTACGCCAATATTTCT\\nCATTCCCTTGCTTTGTTGATTAGGACAGAGGTCACCACAC\\nCCGGAAGCCCGGTTCACGAGCTCCATCCAACGAGCCTTGC\\nGAGGTATCGAGCAAACCAATATACTGCTAGGATCCGGTCT\\nGGCGTTTTACCCCCATGAGATATAGTCCAGGTACTAAAAC\\nCCTTCACCAGGGCAGAAGCGGGGTATACGCTGCCTACTCG\\nTCATACAATTTCGGCTGGAGTTCGGTACGATAGACCGAGT\\nCTGTCGGATACCCGGAAGAGTCACTCTGAAGTTGTACGAG\\nGTGACTAGCTCAAAAGGAAGGGCGAAGAATGGTATGGTAC\\nTCTAGAGCAGGCCATCTTTTACATAGGGCCCTTTGTTACC\\nTTATGTAATGAACGTGGGAGCCCCGGACGTAAATTCTTTA\\nGTCTCCCTAGACGCGTGGTCCCCACTAAATATACATGGTG\\nAGCATCGCAGATACATGGCTTATCGAGGCCCGGGTCGTCA\\nGAAAACGCGGTAAGTCATACGCATGTGCGGCGAATTAGCT\\nTAGGGTGCGCATCTTCAAGCGGAAGTTCCCCCCGAGTGTC\\nGACGCGTTCGTGCCATTAAAGCGTCTTCGAGTACGAATTA\\nGACCAAGTCTGACGAAATTGCCTGAAGTTATAGGGGAAGT\\nAGTCGAAGGGGACGGAGAACTTGTGAATCATAGCGCATGA\\nGGAGATTAAGTCGGTTCATCAGCGTAACCACTTTAACCAC\\nTAGTACGACCCCTGGATGAGTATTGTTCGTGTGTTTCCTC\\n'"
      ]
     },
     "execution_count": 10,
     "metadata": {},
     "output_type": "execute_result"
    }
   ],
   "source": [
    "dna"
   ]
  },
  {
   "cell_type": "code",
   "execution_count": 11,
   "metadata": {
    "scrolled": true
   },
   "outputs": [
    {
     "name": "stdout",
     "output_type": "stream",
     "text": [
      "ratio of the base 'G' to the base 'C' is 1.0886075949367089\n"
     ]
    }
   ],
   "source": [
    "ratio=dna.count('G')/dna.count('C')\n",
    "print(\"ratio of the base 'G' to the base 'C' is {}\".format(ratio))"
   ]
  },
  {
   "cell_type": "markdown",
   "metadata": {},
   "source": [
    "#### method 1: write a function"
   ]
  },
  {
   "cell_type": "code",
   "execution_count": 12,
   "metadata": {},
   "outputs": [],
   "source": [
    "def complementary(x):\n",
    "    y=[]\n",
    "    for i in range(len(x)):\n",
    "        if x[i]=='T':\n",
    "            y.append('A')\n",
    "        elif x[i]=='A':\n",
    "            y.append('T')\n",
    "        elif x[i]=='G':\n",
    "            y.append('C')\n",
    "        else: \n",
    "            y.append('G')\n",
    "    z=\"\".join(str(x) for x in y)\n",
    "    return(z)"
   ]
  },
  {
   "cell_type": "code",
   "execution_count": 13,
   "metadata": {},
   "outputs": [],
   "source": [
    "dna2=dna.replace('\\n','')"
   ]
  },
  {
   "cell_type": "code",
   "execution_count": 14,
   "metadata": {},
   "outputs": [],
   "source": [
    "complementary_dna=complementary(dna2)"
   ]
  },
  {
   "cell_type": "code",
   "execution_count": 15,
   "metadata": {
    "scrolled": false
   },
   "outputs": [
    {
     "data": {
      "text/plain": [
       "'AAATTTAAGGGACCGTGGGCGACCTCAAGAGCTAAAGCTGGTTGGTGCTGCCACACTAAGACTTACATCAATCATAGATGGGTCTCGAGTCCAGTATAGCGCGGTTCGTATTTCCACCGACAACTTTCAGCTACAGGCATATTCAAGGCAAAGGATTACTTTGACGATGCATTCAGATTTCAATACTCGCGCCCGGCCCAATTCCTTCGGGATGCCAATGATATAATGCGGTTATAAAGAGTAAGGGAACGAAACAACTAATCCTGTCTCCAGTGGTGTGGGCCTTCGGGCCAAGTGCTCGAGGTAGGTTGCTCGGAACGCTCCATAGCTCGTTTGGTTATATGACGATCCTAGGCCAGACCGCAAAATGGGGGTACTCTATATCAGGTCCATGATTTTGGGAAGTGGTCCCGTCTTCGCCCCATATGCGACGGATGAGCAGTATGTTAAAGCCGACCTCAAGCCATGCTATCTGGCTCAGACAGCCTATGGGCCTTCTCAGTGAGACTTCAACATGCTCCACTGATCGAGTTTTCCTTCCCGCTTCTTACCATACCATGAGATCTCGTCCGGTAGAAAATGTATCCCGGGAAACAATGGAATACATTACTTGCACCCTCGGGGCCTGCATTTAAGAAATCAGAGGGATCTGCGCACCAGGGGTGATTTATATGTACCACTCGTAGCGTCTATGTACCGAATAGCTCCGGGCCCAGCAGTCTTTTGCGCCATTCAGTATGCGTACACGCCGCTTAATCGAATCCCACGCGTAGAAGTTCGCCTTCAAGGGGGGCTCACAGCTGCGCAAGCACGGTAATTTCGCAGAAGCTCATGCTTAATCTGGTTCAGACTGCTTTAACGGACTTCAATATCCCCTTCATCAGCTTCCCCTGCCTCTTGAACACTTAGTATCGCGTACTCCTCTAATTCAGCCAAGTAGTCGCATTGGTGAAATTGGTGATCATGCTGGGGACCTACTCATAACAAGCACACAAAGGAG'"
      ]
     },
     "execution_count": 15,
     "metadata": {},
     "output_type": "execute_result"
    }
   ],
   "source": [
    "complementary_dna"
   ]
  },
  {
   "cell_type": "code",
   "execution_count": null,
   "metadata": {},
   "outputs": [],
   "source": []
  },
  {
   "cell_type": "markdown",
   "metadata": {},
   "source": [
    "#### method 2: replace function"
   ]
  },
  {
   "cell_type": "code",
   "execution_count": 16,
   "metadata": {},
   "outputs": [],
   "source": [
    "dna_step1=dna.replace('A','a')\n",
    "dna_step2=dna_step1.replace('T','A')\n",
    "dna_step3=dna_step2.replace('a','T')\n",
    "dna_step4=dna_step3.replace('C','c')\n",
    "dna_step5=dna_step4.replace('G','C')\n",
    "dna_step6=dna_step5.replace('c','G')"
   ]
  },
  {
   "cell_type": "code",
   "execution_count": 17,
   "metadata": {},
   "outputs": [
    {
     "data": {
      "text/plain": [
       "True"
      ]
     },
     "execution_count": 17,
     "metadata": {},
     "output_type": "execute_result"
    }
   ],
   "source": [
    "dna_step6.replace('\\n','')==complementary_dna"
   ]
  },
  {
   "cell_type": "code",
   "execution_count": 18,
   "metadata": {},
   "outputs": [
    {
     "data": {
      "text/plain": [
       "'AAATTTAAGGGACCGTGGGCGACCTCAAGAGCTAAAGCTGGTTGGTGCTGCCACACTAAGACTTACATCAATCATAGATGGGTCTCGAGTCCAGTATAGCGCGGTTCGTATTTCCACCGACAACTTTCAGCTACAGGCATATTCAAGGCAAAGGATTACTTTGACGATGCATTCAGATTTCAATACTCGCGCCCGGCCCAATTCCTTCGGGATGCCAATGATATAATGCGGTTATAAAGAGTAAGGGAACGAAACAACTAATCCTGTCTCCAGTGGTGTGGGCCTTCGGGCCAAGTGCTCGAGGTAGGTTGCTCGGAACGCTCCATAGCTCGTTTGGTTATATGACGATCCTAGGCCAGACCGCAAAATGGGGGTACTCTATATCAGGTCCATGATTTTGGGAAGTGGTCCCGTCTTCGCCCCATATGCGACGGATGAGCAGTATGTTAAAGCCGACCTCAAGCCATGCTATCTGGCTCAGACAGCCTATGGGCCTTCTCAGTGAGACTTCAACATGCTCCACTGATCGAGTTTTCCTTCCCGCTTCTTACCATACCATGAGATCTCGTCCGGTAGAAAATGTATCCCGGGAAACAATGGAATACATTACTTGCACCCTCGGGGCCTGCATTTAAGAAATCAGAGGGATCTGCGCACCAGGGGTGATTTATATGTACCACTCGTAGCGTCTATGTACCGAATAGCTCCGGGCCCAGCAGTCTTTTGCGCCATTCAGTATGCGTACACGCCGCTTAATCGAATCCCACGCGTAGAAGTTCGCCTTCAAGGGGGGCTCACAGCTGCGCAAGCACGGTAATTTCGCAGAAGCTCATGCTTAATCTGGTTCAGACTGCTTTAACGGACTTCAATATCCCCTTCATCAGCTTCCCCTGCCTCTTGAACACTTAGTATCGCGTACTCCTCTAATTCAGCCAAGTAGTCGCATTGGTGAAATTGGTGATCATGCTGGGGACCTACTCATAACAAGCACACAAAGGAG'"
      ]
     },
     "execution_count": 18,
     "metadata": {},
     "output_type": "execute_result"
    }
   ],
   "source": [
    "dna_step6.replace('\\n','')"
   ]
  },
  {
   "cell_type": "code",
   "execution_count": 19,
   "metadata": {},
   "outputs": [
    {
     "data": {
      "text/plain": [
       "{'A': 254, 'C': 237, 'G': 258, 'T': 251}"
      ]
     },
     "execution_count": 19,
     "metadata": {},
     "output_type": "execute_result"
    }
   ],
   "source": [
    "dict(A=dna.count('A'),T=dna.count('T'),C=dna.count('C'),G=dna.count('G'))"
   ]
  },
  {
   "cell_type": "markdown",
   "metadata": {},
   "source": [
    "**5**. Buffon's needle is a mathematical thought experiment.\n",
    "\n",
    "Suppose there exist an infinite number of equally spaced parallel lines, and we were to randomly toss a needle whose length is less than or equal to the distance between adjacent lines. What is the probability that the needle will cross a line? The formula is \n",
    "$P = \\frac{2L}{\\pi D}$, where $D$ is the distance between two adjacent lines, and $L$ is the length of the needle.\n",
    "\n",
    "[Source: Wikipedia](https://en.wikipedia.org/wiki/Buffon%27s_noodle)\n",
    "\n",
    "Use a Monte Carlo simulaiton and elemntary trignometry to esitmate $\\pi$ using Buffon's needle by dropping 1 million  needles. (40 points)"
   ]
  },
  {
   "cell_type": "code",
   "execution_count": 20,
   "metadata": {},
   "outputs": [],
   "source": [
    "import random \n",
    "from numpy import pi, sin\n",
    "\n",
    "def buffon(L, D, N):\n",
    "    count= 0; \n",
    "    for loop in range(N) :\n",
    "        theta = pi*random.uniform(0,180)/180\n",
    "        if L * sin(theta) > random.uniform(0,D): \n",
    "            count += 1\n",
    "    return count/N"
   ]
  },
  {
   "cell_type": "code",
   "execution_count": 24,
   "metadata": {},
   "outputs": [],
   "source": [
    "L = 1\n",
    "D = 4\n",
    "N = int(1e6) \n",
    "Pi_est = (2*L) / (buffon(L,D,N)*D)"
   ]
  },
  {
   "cell_type": "code",
   "execution_count": 25,
   "metadata": {
    "scrolled": true
   },
   "outputs": [
    {
     "data": {
      "text/plain": [
       "3.1416704890324287"
      ]
     },
     "execution_count": 25,
     "metadata": {},
     "output_type": "execute_result"
    }
   ],
   "source": [
    "Pi_est"
   ]
  },
  {
   "cell_type": "code",
   "execution_count": null,
   "metadata": {},
   "outputs": [],
   "source": []
  }
 ],
 "metadata": {
  "kernelspec": {
   "display_name": "Python 3",
   "language": "python",
   "name": "python3"
  },
  "language_info": {
   "codemirror_mode": {
    "name": "ipython",
    "version": 3
   },
   "file_extension": ".py",
   "mimetype": "text/x-python",
   "name": "python",
   "nbconvert_exporter": "python",
   "pygments_lexer": "ipython3",
   "version": "3.6.3"
  }
 },
 "nbformat": 4,
 "nbformat_minor": 2
}
