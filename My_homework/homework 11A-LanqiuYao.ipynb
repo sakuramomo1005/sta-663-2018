{
 "cells": [
  {
   "cell_type": "code",
   "execution_count": 1,
   "metadata": {},
   "outputs": [],
   "source": [
    "%matplotlib inline"
   ]
  },
  {
   "cell_type": "code",
   "execution_count": 2,
   "metadata": {},
   "outputs": [],
   "source": [
    "import os\n",
    "import numpy as np\n",
    "import pandas as pd\n",
    "import matplotlib.pyplot as plt"
   ]
  },
  {
   "cell_type": "markdown",
   "metadata": {},
   "source": [
    "# Parallel Processing "
   ]
  },
  {
   "cell_type": "markdown",
   "metadata": {},
   "source": [
    "**1**. (30 points) Accelerating network bound procedures.\n",
    "\n",
    "Python code to show PNG images available on the URL `http://people.duke.edu/~ccc14/misc/` is provided.\n",
    "\n",
    "- Write a funciton `download_one(url, path)` that downloads one image given a `url` and saves the image to `path` (5 points)\n",
    "    \n",
    "For the exercises below, save the image file to the local directory using the same fileanme as on `http://people.duke.edu/~ccc14/misc/`. You can just use the `%%time` magic to time the downloads.\n",
    " \n",
    "- Write a for loop to download all images and time how long it takes (5 points)\n",
    "- Write a function that uses `concurrent.futures` and a thread pool with 4 threads to download all images and time how long it takes (5 points)\n",
    "- Write a function that uses `multiprocessing` and a process pool with 4 processes to download all images and time how long it takes (5 points)\n",
    "- Write a function that uses `ipyparallel` and a process pool with 4 processes to download all images and time how long it takes (10 points)"
   ]
  },
  {
   "cell_type": "code",
   "execution_count": 3,
   "metadata": {
    "scrolled": true
   },
   "outputs": [
    {
     "name": "stdout",
     "output_type": "stream",
     "text": [
      "http://people.duke.edu/~ccc14/misc/250px-002Ivysaur.png\n",
      "http://people.duke.edu/~ccc14/misc/250px-003Venusaur.png\n",
      "http://people.duke.edu/~ccc14/misc/250px-004Charmander.png\n",
      "http://people.duke.edu/~ccc14/misc/250px-005Charmeleon.png\n",
      "http://people.duke.edu/~ccc14/misc/250px-006Charizard.png\n",
      "http://people.duke.edu/~ccc14/misc/250px-008Wartortle.png\n",
      "http://people.duke.edu/~ccc14/misc/250px-009Blastoise.png\n",
      "http://people.duke.edu/~ccc14/misc/250px-012Butterfree.png\n",
      "http://people.duke.edu/~ccc14/misc/250px-015Beedrill.png\n",
      "http://people.duke.edu/~ccc14/misc/250px-016Pidgey.png\n",
      "http://people.duke.edu/~ccc14/misc/250px-017Pidgeotto.png\n",
      "http://people.duke.edu/~ccc14/misc/250px-018Pidgeot.png\n",
      "http://people.duke.edu/~ccc14/misc/250px-019Rattata.png\n",
      "http://people.duke.edu/~ccc14/misc/250px-020Raticate.png\n",
      "http://people.duke.edu/~ccc14/misc/250px-021Spearow.png\n",
      "http://people.duke.edu/~ccc14/misc/250px-022Fearow.png\n",
      "http://people.duke.edu/~ccc14/misc/250px-023Ekans.png\n",
      "http://people.duke.edu/~ccc14/misc/250px-024Arbok.png\n",
      "http://people.duke.edu/~ccc14/misc/250px-025Pikachu.png\n",
      "http://people.duke.edu/~ccc14/misc/250px-026Raichu.png\n",
      "http://people.duke.edu/~ccc14/misc/250px-028Sandslash.png\n",
      "http://people.duke.edu/~ccc14/misc/250px-030Nidorina.png\n",
      "http://people.duke.edu/~ccc14/misc/250px-031Nidoqueen.png\n",
      "http://people.duke.edu/~ccc14/misc/250px-033Nidorino.png\n",
      "http://people.duke.edu/~ccc14/misc/250px-034Nidoking.png\n",
      "http://people.duke.edu/~ccc14/misc/250px-036Clefable.png\n",
      "http://people.duke.edu/~ccc14/misc/250px-037Vulpix.png\n",
      "http://people.duke.edu/~ccc14/misc/250px-038Ninetales.png\n",
      "http://people.duke.edu/~ccc14/misc/250px-041Zubat.png\n",
      "http://people.duke.edu/~ccc14/misc/250px-042Golbat.png\n",
      "http://people.duke.edu/~ccc14/misc/250px-049Venomoth.png\n",
      "http://people.duke.edu/~ccc14/misc/250px-050Diglett.png\n",
      "http://people.duke.edu/~ccc14/misc/250px-051Dugtrio.png\n",
      "http://people.duke.edu/~ccc14/misc/250px-052Meowth.png\n",
      "http://people.duke.edu/~ccc14/misc/250px-053Persian.png\n",
      "http://people.duke.edu/~ccc14/misc/250px-054Psyduck.png\n",
      "http://people.duke.edu/~ccc14/misc/250px-055Golduck.png\n",
      "http://people.duke.edu/~ccc14/misc/250px-056Mankey.png\n",
      "http://people.duke.edu/~ccc14/misc/250px-057Primeape.png\n",
      "http://people.duke.edu/~ccc14/misc/250px-058Growlithe.png\n",
      "http://people.duke.edu/~ccc14/misc/250px-059Arcanine.png\n",
      "http://people.duke.edu/~ccc14/misc/250px-060Poliwag.png\n",
      "http://people.duke.edu/~ccc14/misc/250px-061Poliwhirl.png\n",
      "http://people.duke.edu/~ccc14/misc/250px-062Poliwrath.png\n",
      "http://people.duke.edu/~ccc14/misc/250px-063Abra.png\n",
      "http://people.duke.edu/~ccc14/misc/250px-064Kadabra.png\n",
      "http://people.duke.edu/~ccc14/misc/250px-065Alakazam.png\n",
      "http://people.duke.edu/~ccc14/misc/250px-068Machamp.png\n",
      "http://people.duke.edu/~ccc14/misc/250px-070Weepinbell.png\n",
      "http://people.duke.edu/~ccc14/misc/250px-071Victreebel.png\n",
      "http://people.duke.edu/~ccc14/misc/250px-072Tentacool.png\n",
      "http://people.duke.edu/~ccc14/misc/250px-073Tentacruel.png\n",
      "http://people.duke.edu/~ccc14/misc/250px-077Ponyta.png\n",
      "http://people.duke.edu/~ccc14/misc/250px-078Rapidash.png\n",
      "http://people.duke.edu/~ccc14/misc/250px-082Magneton.png\n",
      "http://people.duke.edu/~ccc14/misc/250px-083Farfetch'd.png\n",
      "http://people.duke.edu/~ccc14/misc/250px-084Doduo.png\n",
      "http://people.duke.edu/~ccc14/misc/250px-085Dodrio.png\n",
      "http://people.duke.edu/~ccc14/misc/250px-087Dewgong.png\n",
      "http://people.duke.edu/~ccc14/misc/250px-091Cloyster.png\n",
      "http://people.duke.edu/~ccc14/misc/250px-092Gastly.png\n",
      "http://people.duke.edu/~ccc14/misc/250px-093Haunter.png\n",
      "http://people.duke.edu/~ccc14/misc/250px-094Gengar.png\n",
      "http://people.duke.edu/~ccc14/misc/250px-095Onix.png\n",
      "http://people.duke.edu/~ccc14/misc/250px-097Hypno.png\n",
      "http://people.duke.edu/~ccc14/misc/250px-099Kingler.png\n",
      "http://people.duke.edu/~ccc14/misc/250px-100Voltorb.png\n",
      "http://people.duke.edu/~ccc14/misc/250px-101Electrode.png\n",
      "http://people.duke.edu/~ccc14/misc/250px-103Exeggutor.png\n",
      "http://people.duke.edu/~ccc14/misc/250px-106Hitmonlee.png\n",
      "http://people.duke.edu/~ccc14/misc/250px-107Hitmonchan.png\n",
      "http://people.duke.edu/~ccc14/misc/250px-110Weezing.png\n",
      "http://people.duke.edu/~ccc14/misc/250px-114Tangela.png\n",
      "http://people.duke.edu/~ccc14/misc/250px-115Kangaskhan.png\n",
      "http://people.duke.edu/~ccc14/misc/250px-116Horsea.png\n",
      "http://people.duke.edu/~ccc14/misc/250px-117Seadra.png\n",
      "http://people.duke.edu/~ccc14/misc/250px-118Goldeen.png\n",
      "http://people.duke.edu/~ccc14/misc/250px-119Seaking.png\n",
      "http://people.duke.edu/~ccc14/misc/250px-120Staryu.png\n",
      "http://people.duke.edu/~ccc14/misc/250px-121Starmie.png\n",
      "http://people.duke.edu/~ccc14/misc/250px-122Mr._Mime.png\n",
      "http://people.duke.edu/~ccc14/misc/250px-123Scyther.png\n",
      "http://people.duke.edu/~ccc14/misc/250px-124Jynx.png\n",
      "http://people.duke.edu/~ccc14/misc/250px-125Electabuzz.png\n",
      "http://people.duke.edu/~ccc14/misc/250px-126Magmar.png\n",
      "http://people.duke.edu/~ccc14/misc/250px-127Pinsir.png\n",
      "http://people.duke.edu/~ccc14/misc/250px-128Tauros.png\n",
      "http://people.duke.edu/~ccc14/misc/250px-129Magikarp.png\n",
      "http://people.duke.edu/~ccc14/misc/250px-130Gyarados.png\n",
      "http://people.duke.edu/~ccc14/misc/250px-131Lapras.png\n",
      "http://people.duke.edu/~ccc14/misc/250px-133Eevee.png\n",
      "http://people.duke.edu/~ccc14/misc/250px-134Vaporeon.png\n",
      "http://people.duke.edu/~ccc14/misc/250px-135Jolteon.png\n",
      "http://people.duke.edu/~ccc14/misc/250px-136Flareon.png\n",
      "http://people.duke.edu/~ccc14/misc/250px-139Omastar.png\n",
      "http://people.duke.edu/~ccc14/misc/250px-140Kabuto.png\n",
      "http://people.duke.edu/~ccc14/misc/250px-141Kabutops.png\n",
      "http://people.duke.edu/~ccc14/misc/250px-142Aerodactyl.png\n",
      "http://people.duke.edu/~ccc14/misc/250px-144Articuno.png\n",
      "http://people.duke.edu/~ccc14/misc/250px-145Zapdos.png\n",
      "http://people.duke.edu/~ccc14/misc/250px-146Moltres.png\n",
      "http://people.duke.edu/~ccc14/misc/250px-148Dragonair.png\n",
      "http://people.duke.edu/~ccc14/misc/250px-149Dragonite.png\n",
      "http://people.duke.edu/~ccc14/misc/250px-150Mewtwo.png\n",
      "http://people.duke.edu/~ccc14/misc/250px-151Mew.png\n"
     ]
    }
   ],
   "source": [
    "import requests\n",
    "from bs4 import BeautifulSoup\n",
    "\n",
    "def listFD(url, ext=''):\n",
    "    page = requests.get(url).text\n",
    "    soup = BeautifulSoup(page, 'html.parser')\n",
    "    return [url + node.get('href') for node in soup.find_all('a') \n",
    "            if node.get('href').endswith(ext)]\n",
    "\n",
    "site = 'http://people.duke.edu/~ccc14/misc/'\n",
    "ext = 'png'\n",
    "for i, file in enumerate(listFD(site, ext)):\n",
    "    print(file)"
   ]
  },
  {
   "cell_type": "markdown",
   "metadata": {},
   "source": [
    "### Function to download a single image at URL to PATH"
   ]
  },
  {
   "cell_type": "markdown",
   "metadata": {},
   "source": [
    "### Using for loop"
   ]
  },
  {
   "cell_type": "markdown",
   "metadata": {},
   "source": [
    "Try to download one"
   ]
  },
  {
   "cell_type": "code",
   "execution_count": 4,
   "metadata": {
    "scrolled": true
   },
   "outputs": [
    {
     "data": {
      "text/plain": [
       "'/home/jovyan/work/sta-663-2018/labs'"
      ]
     },
     "execution_count": 4,
     "metadata": {},
     "output_type": "execute_result"
    }
   ],
   "source": [
    "pwd"
   ]
  },
  {
   "cell_type": "code",
   "execution_count": 5,
   "metadata": {
    "scrolled": true
   },
   "outputs": [
    {
     "data": {
      "text/plain": [
       "<module 'posixpath' from '/opt/conda/lib/python3.6/posixpath.py'>"
      ]
     },
     "execution_count": 5,
     "metadata": {},
     "output_type": "execute_result"
    }
   ],
   "source": [
    "from PIL import Image\n",
    "import os\n",
    "os.path"
   ]
  },
  {
   "cell_type": "code",
   "execution_count": 6,
   "metadata": {
    "scrolled": true
   },
   "outputs": [
    {
     "data": {
      "text/plain": [
       "'http://people.duke.edu/~ccc14/misc/250px-003Venusaur.png'"
      ]
     },
     "execution_count": 6,
     "metadata": {},
     "output_type": "execute_result"
    }
   ],
   "source": [
    "url = listFD(site, ext)[1]\n",
    "response = requests.get(url)\n",
    "url"
   ]
  },
  {
   "cell_type": "code",
   "execution_count": 7,
   "metadata": {},
   "outputs": [],
   "source": [
    "file_name=url.split('/')[-1]\n",
    "#file_name=\"/lab11/\"+file_name"
   ]
  },
  {
   "cell_type": "code",
   "execution_count": 8,
   "metadata": {},
   "outputs": [],
   "source": [
    "if response.status_code == 200:\n",
    "    img = response.raw.read()\n",
    "    with open(file_name, 'wb') as f:\n",
    "        f.write(img)"
   ]
  },
  {
   "cell_type": "markdown",
   "metadata": {},
   "source": [
    "The function"
   ]
  },
  {
   "cell_type": "code",
   "execution_count": 9,
   "metadata": {},
   "outputs": [],
   "source": [
    "def download_one(url, path):\n",
    "    \"\"\"\n",
    "    Function to download a single image at URL to PATH\n",
    "    \"\"\"\n",
    "    response = requests.get(url)\n",
    "    if response.status_code == 200:\n",
    "        img = response.raw.read()\n",
    "        with open(path, 'wb') as f:\n",
    "            f.write(img)"
   ]
  },
  {
   "cell_type": "code",
   "execution_count": 10,
   "metadata": {},
   "outputs": [
    {
     "name": "stdout",
     "output_type": "stream",
     "text": [
      "CPU times: user 376 ms, sys: 100 ms, total: 476 ms\n",
      "Wall time: 8.39 s\n"
     ]
    }
   ],
   "source": [
    "%%time\n",
    "\n",
    "for url in listFD(site, ext):\n",
    "    paths = url.split('/')[-1]\n",
    "    download_one(url, paths)"
   ]
  },
  {
   "cell_type": "markdown",
   "metadata": {},
   "source": [
    "### Using a thread pool"
   ]
  },
  {
   "cell_type": "code",
   "execution_count": 11,
   "metadata": {},
   "outputs": [],
   "source": [
    "from concurrent.futures import ThreadPoolExecutor"
   ]
  },
  {
   "cell_type": "code",
   "execution_count": 12,
   "metadata": {},
   "outputs": [
    {
     "data": {
      "text/plain": [
       "105"
      ]
     },
     "execution_count": 12,
     "metadata": {},
     "output_type": "execute_result"
    }
   ],
   "source": [
    "len(listFD(site, ext))"
   ]
  },
  {
   "cell_type": "code",
   "execution_count": 13,
   "metadata": {},
   "outputs": [],
   "source": [
    "paths=[listFD(site, ext)[i].split('/')[-1] for i in range(len(listFD(site, ext)))]"
   ]
  },
  {
   "cell_type": "code",
   "execution_count": 14,
   "metadata": {},
   "outputs": [],
   "source": [
    "urls='http://people.duke.edu/~ccc14/misc/'"
   ]
  },
  {
   "cell_type": "code",
   "execution_count": 15,
   "metadata": {},
   "outputs": [
    {
     "data": {
      "text/plain": [
       "'http://people.duke.edu/~ccc14/misc/250px-003Venusaur.png'"
      ]
     },
     "execution_count": 15,
     "metadata": {},
     "output_type": "execute_result"
    }
   ],
   "source": [
    "urls+paths[1]"
   ]
  },
  {
   "cell_type": "code",
   "execution_count": 16,
   "metadata": {},
   "outputs": [
    {
     "name": "stdout",
     "output_type": "stream",
     "text": [
      "CPU times: user 344 ms, sys: 104 ms, total: 448 ms\n",
      "Wall time: 2.11 s\n"
     ]
    }
   ],
   "source": [
    "%%time\n",
    "\n",
    "with ThreadPoolExecutor(max_workers=4) as pool:\n",
    "    pool.map(lambda x: download_one(urls+x, x), paths)"
   ]
  },
  {
   "cell_type": "markdown",
   "metadata": {},
   "source": [
    "### Using a process pool"
   ]
  },
  {
   "cell_type": "code",
   "execution_count": 17,
   "metadata": {},
   "outputs": [],
   "source": [
    "from multiprocessing import Pool"
   ]
  },
  {
   "cell_type": "code",
   "execution_count": 18,
   "metadata": {},
   "outputs": [],
   "source": [
    "files=[(urls+paths[i],paths[i]) for i in range(len(paths))]"
   ]
  },
  {
   "cell_type": "code",
   "execution_count": 19,
   "metadata": {},
   "outputs": [
    {
     "name": "stdout",
     "output_type": "stream",
     "text": [
      "CPU times: user 12 ms, sys: 20 ms, total: 32 ms\n",
      "Wall time: 2.23 s\n"
     ]
    }
   ],
   "source": [
    "%%time\n",
    "\n",
    "with Pool(processes=4) as pool:\n",
    "    pool.starmap(download_one, files)"
   ]
  },
  {
   "cell_type": "markdown",
   "metadata": {},
   "source": [
    "### Using `ipyparallel`"
   ]
  },
  {
   "cell_type": "code",
   "execution_count": 27,
   "metadata": {
    "scrolled": false
   },
   "outputs": [],
   "source": [
    "from ipyparallel import Client\n",
    "rc = Client()\n",
    "dv = rc[:]"
   ]
  },
  {
   "cell_type": "code",
   "execution_count": 24,
   "metadata": {},
   "outputs": [],
   "source": [
    "@dv.parallel(block = True)\n",
    "def download_one2(url, path):\n",
    "    response = requests.get(url)\n",
    "    if response.status_code == 200:\n",
    "        img = response.raw.read()\n",
    "        with open(path, 'wb') as f:\n",
    "            f.write(img)"
   ]
  },
  {
   "cell_type": "code",
   "execution_count": 25,
   "metadata": {},
   "outputs": [
    {
     "name": "stdout",
     "output_type": "stream",
     "text": [
      "CPU times: user 16 ms, sys: 0 ns, total: 16 ms\n",
      "Wall time: 13.4 ms\n"
     ]
    }
   ],
   "source": [
    "%%time\n",
    "\n",
    "with ThreadPoolExecutor(max_workers=4) as pool:\n",
    "    pool.map(lambda x: download_one2(urls+x, x), paths)"
   ]
  },
  {
   "cell_type": "code",
   "execution_count": null,
   "metadata": {},
   "outputs": [],
   "source": []
  }
 ],
 "metadata": {
  "kernelspec": {
   "display_name": "Python 3",
   "language": "python",
   "name": "python3"
  },
  "language_info": {
   "codemirror_mode": {
    "name": "ipython",
    "version": 3
   },
   "file_extension": ".py",
   "mimetype": "text/x-python",
   "name": "python",
   "nbconvert_exporter": "python",
   "pygments_lexer": "ipython3",
   "version": "3.6.5"
  },
  "latex_envs": {
   "bibliofile": "biblio.bib",
   "cite_by": "apalike",
   "current_citInitial": 1,
   "eqLabelWithNumbers": true,
   "eqNumInitial": 0
  }
 },
 "nbformat": 4,
 "nbformat_minor": 2
}
