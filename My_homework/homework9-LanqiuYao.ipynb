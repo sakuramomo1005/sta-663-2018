{
 "cells": [
  {
   "cell_type": "markdown",
   "metadata": {},
   "source": [
    "**1.** (10 points)\n",
    "\n",
    "Use loop to generate the 12 by 12 times table. Compile and run. You don't have to worry much about formatting, but the output should have 12 rows with numbers separated by spaces."
   ]
  },
  {
   "cell_type": "code",
   "execution_count": 1,
   "metadata": {},
   "outputs": [
    {
     "name": "stdout",
     "output_type": "stream",
     "text": [
      "Writing q1.cpp\n"
     ]
    }
   ],
   "source": [
    "%%file q1.cpp\n",
    "\n",
    "#include <iostream>\n",
    "\n",
    "using std::cout;\n",
    "using std::endl;\n",
    "\n",
    "int main() {\n",
    "    int matrix[12][12];\n",
    "    for(int x=0;x<12;x++){\n",
    "        for(int y=0;y<12;y++){\n",
    "            matrix[x][y]=6;}}\n",
    "\n",
    "    // showing the matrix on the screen\n",
    "\n",
    "    for(int x=0;x<12;x++){\n",
    "        for(int y=0;y<12;y++){\n",
    "            cout<<matrix[x][y] << \" \" ;}\n",
    "    cout<<endl; }\n",
    "}"
   ]
  },
  {
   "cell_type": "code",
   "execution_count": 2,
   "metadata": {},
   "outputs": [],
   "source": [
    "%%bash\n",
    "\n",
    "g++ -o q1.exe q1.cpp -std=c++14"
   ]
  },
  {
   "cell_type": "code",
   "execution_count": 4,
   "metadata": {},
   "outputs": [
    {
     "name": "stdout",
     "output_type": "stream",
     "text": [
      "6 6 6 6 6 6 6 6 6 6 6 6 \n",
      "6 6 6 6 6 6 6 6 6 6 6 6 \n",
      "6 6 6 6 6 6 6 6 6 6 6 6 \n",
      "6 6 6 6 6 6 6 6 6 6 6 6 \n",
      "6 6 6 6 6 6 6 6 6 6 6 6 \n",
      "6 6 6 6 6 6 6 6 6 6 6 6 \n",
      "6 6 6 6 6 6 6 6 6 6 6 6 \n",
      "6 6 6 6 6 6 6 6 6 6 6 6 \n",
      "6 6 6 6 6 6 6 6 6 6 6 6 \n",
      "6 6 6 6 6 6 6 6 6 6 6 6 \n",
      "6 6 6 6 6 6 6 6 6 6 6 6 \n",
      "6 6 6 6 6 6 6 6 6 6 6 6 \n"
     ]
    }
   ],
   "source": [
    "%%bash\n",
    "\n",
    "./q1.exe"
   ]
  },
  {
   "cell_type": "markdown",
   "metadata": {},
   "source": [
    "**2.** (10 points)\n",
    " \n",
    "Write a function that takes a vector of doubles  returns the squared vector. Compile and run the function with the initial vector containing 1.0, 2.0, 3.0, 4.0, 5.0."
   ]
  },
  {
   "cell_type": "code",
   "execution_count": 5,
   "metadata": {},
   "outputs": [
    {
     "name": "stdout",
     "output_type": "stream",
     "text": [
      "Writing q2.cpp\n"
     ]
    }
   ],
   "source": [
    "%%file q2.cpp\n",
    "\n",
    "#include <iostream>\n",
    "#include <vector>\n",
    "#include<bits/stdc++.h>\n",
    "using namespace std;\n",
    "        \n",
    "void func(const vector<double> &vect)\n",
    "{\n",
    "       for (int i=0; i<vect.size(); i++)\n",
    "       cout << vect[i]*vect[i] << \" \";\n",
    "}\n",
    "\n",
    "int main()\n",
    "{\n",
    "    vector<double> a={1.0, 2.0, 3.0, 4.0, 5.0};\n",
    "    func(a);\n",
    "    return 0;\n",
    "}\n"
   ]
  },
  {
   "cell_type": "code",
   "execution_count": 7,
   "metadata": {},
   "outputs": [],
   "source": [
    "%%bash\n",
    "\n",
    "c++ -o q2.exe q2.cpp --std=c++14"
   ]
  },
  {
   "cell_type": "code",
   "execution_count": 8,
   "metadata": {},
   "outputs": [
    {
     "name": "stdout",
     "output_type": "stream",
     "text": [
      "1 4 9 16 25 "
     ]
    }
   ],
   "source": [
    "%%bash \n",
    "\n",
    "./q2.exe"
   ]
  },
  {
   "cell_type": "code",
   "execution_count": null,
   "metadata": {},
   "outputs": [],
   "source": []
  },
  {
   "cell_type": "markdown",
   "metadata": {},
   "source": [
    "**3**. (10 points)\n",
    "\n",
    "Convert the function from Exercise 2 so that it works for lists or vectors of ints, floats and doubles."
   ]
  },
  {
   "cell_type": "code",
   "execution_count": 120,
   "metadata": {},
   "outputs": [
    {
     "name": "stdout",
     "output_type": "stream",
     "text": [
      "Overwriting q3_int.cpp\n"
     ]
    }
   ],
   "source": [
    "%%file q3_int.cpp\n",
    "\n",
    "#include <iostream>\n",
    "#include <vector>\n",
    "#include<bits/stdc++.h>\n",
    "using namespace std;\n",
    "        \n",
    "int func(int x[])\n",
    "{\n",
    "       for (int i=0; i<(sizeof(x)/sizeof(*x)) ; i++)\n",
    "       cout << x[i]*x[i] << \" \";\n",
    "}\n",
    "\n",
    "int main()\n",
    "{\n",
    "    int x[]={1,9,3,4,5};\n",
    "    func(x);\n",
    "    return 0;\n",
    "}"
   ]
  },
  {
   "cell_type": "code",
   "execution_count": 121,
   "metadata": {},
   "outputs": [],
   "source": [
    "%%bash\n",
    "\n",
    "c++ -o q3_int.exe q3_int.cpp --std=c++14"
   ]
  },
  {
   "cell_type": "code",
   "execution_count": 122,
   "metadata": {},
   "outputs": [
    {
     "name": "stdout",
     "output_type": "stream",
     "text": [
      "1 81 "
     ]
    }
   ],
   "source": [
    "%%bash \n",
    "\n",
    "./q3_int.exe"
   ]
  },
  {
   "cell_type": "code",
   "execution_count": null,
   "metadata": {},
   "outputs": [],
   "source": []
  },
  {
   "cell_type": "code",
   "execution_count": null,
   "metadata": {},
   "outputs": [],
   "source": []
  },
  {
   "cell_type": "code",
   "execution_count": null,
   "metadata": {},
   "outputs": [],
   "source": []
  },
  {
   "cell_type": "code",
   "execution_count": null,
   "metadata": {},
   "outputs": [],
   "source": []
  },
  {
   "cell_type": "markdown",
   "metadata": {},
   "source": [
    "**4**. (10 pionts)\n",
    "\n",
    "Write a function to calculate the mean of a vector of numbers using `accumulate` from the `<numeric>` library. Compile and test with some vectors."
   ]
  },
  {
   "cell_type": "code",
   "execution_count": 50,
   "metadata": {},
   "outputs": [
    {
     "name": "stdout",
     "output_type": "stream",
     "text": [
      "Overwriting q3.cpp\n"
     ]
    }
   ],
   "source": [
    "%%file q3.cpp\n",
    "\n",
    "#include <vector>\n",
    "#include <iostream>\n",
    "#include <numeric>\n",
    "using namespace std;\n",
    "\n",
    "void func(const vector<double> &v)\n",
    "{\n",
    "    float average = accumulate(v.begin(), v.end(), 0.0)/v.size();\n",
    "    cout << \"The average is: \" << average << endl;\n",
    "}\n",
    "\n",
    "int main()\n",
    "{\n",
    "    vector<double> a={1.0, 2.0, 3.0, 4.0, 5.0};\n",
    "    func(a);\n",
    "    return 0;\n",
    "}"
   ]
  },
  {
   "cell_type": "code",
   "execution_count": 41,
   "metadata": {},
   "outputs": [],
   "source": [
    "%%bash\n",
    "\n",
    "c++ -o q3.exe q3.cpp --std=c++14"
   ]
  },
  {
   "cell_type": "code",
   "execution_count": 42,
   "metadata": {},
   "outputs": [
    {
     "name": "stdout",
     "output_type": "stream",
     "text": [
      "The average is: 3\n"
     ]
    }
   ],
   "source": [
    "%%bash \n",
    "\n",
    "./q3.exe"
   ]
  },
  {
   "cell_type": "markdown",
   "metadata": {},
   "source": [
    "**5**. (10 points)\n",
    "\n",
    "Generate 1000 random points from the exponential distribution and save as a comma-separated values (CSV) file. Open the file in Python and plot the distribution using `plt.hist`."
   ]
  },
  {
   "cell_type": "code",
   "execution_count": 132,
   "metadata": {},
   "outputs": [
    {
     "data": {
      "image/png": "[encoded data removed]",
      "text/plain": [
       "<matplotlib.figure.Figure at 0x7fe8ca024978>"
      ]
     },
     "metadata": {},
     "output_type": "display_data"
    }
   ],
   "source": [
    "import numpy as np\n",
    "import matplotlib.pyplot as plt\n",
    "\n",
    "\n",
    "x=np.random.exponential(1,size=1000)\n",
    "plt.hist(x,bins=100)\n",
    "plt.show()\n"
   ]
  },
  {
   "cell_type": "markdown",
   "metadata": {},
   "source": [
    "**6**. (20 points)\n",
    "\n",
    "Implement Newton's method in 1D for root finding. Pass in the function and gradient as generalized function pointers. Use the method to find all roots of the polynomial equation $f(x) = x^3 - 7x - 6$. You may use the `std::abs` and `std::pow` from the `cmath` library."
   ]
  },
  {
   "cell_type": "code",
   "execution_count": 17,
   "metadata": {},
   "outputs": [
    {
     "data": {
      "image/png": "[encoded data removed]",
      "text/plain": [
       "<Figure size 432x288 with 1 Axes>"
      ]
     },
     "metadata": {},
     "output_type": "display_data"
    }
   ],
   "source": [
    "f = lambda x: x**3 - 7*x - 6\n",
    "r = np.roots([1, 0, -7, -6])\n",
    "\n",
    "xi = np.linspace(-2.5, 3.5, 100)\n",
    "plt.plot(xi, f(xi))\n",
    "plt.scatter(r, np.zeros_like(r), c='red')\n",
    "plt.axhline(0)\n",
    "plt.show()"
   ]
  },
  {
   "cell_type": "code",
   "execution_count": null,
   "metadata": {
    "collapsed": true
   },
   "outputs": [],
   "source": []
  },
  {
   "cell_type": "markdown",
   "metadata": {},
   "source": [
    "**7**.  (30 points)\n",
    "\n",
    "Use the Eigen library to\n",
    "\n",
    "- Generate 10 x-coordinates linearly spaced between 10 and 15\n",
    "- Generate 10 random y-values as $y = 3x^2 - 7x + 2 + \\epsilon$ where $\\epsilon \\sim 10 N(0,1)$\n",
    "- Find the length of $x$ and $y$ and the Euclidean distance between $x$ and $y$\n",
    "- Find the correlation between $x$ and $y$ using\n",
    "![img](https://wikimedia.org/api/rest_v1/media/math/render/svg/60e3f3116e2923c792aafb904dcac308624a1d77)\n",
    "- Solve the linear system to find a quadratic fit for this data\n",
    "\n",
    "If you use the seed 12345 for the random number generator, you should get the following solutions."
   ]
  },
  {
   "cell_type": "code",
   "execution_count": null,
   "metadata": {},
   "outputs": [],
   "source": []
  },
  {
   "cell_type": "code",
   "execution_count": 133,
   "metadata": {},
   "outputs": [],
   "source": [
    "x = np.array('10 10.5556 11.1111 11.6667 12.2222 12.7778 13.3333 13.8889 14.4444 15'.split()).astype('float')\n",
    "y = np.array('232.862 264.056 310.697 322.345 359.037 412.095 448.471 468.163 533.646 579.763'.split()).astype('float')"
   ]
  },
  {
   "cell_type": "code",
   "execution_count": 138,
   "metadata": {},
   "outputs": [
    {
     "data": {
      "text/plain": [
       "2.4494897427831779"
      ]
     },
     "execution_count": 138,
     "metadata": {},
     "output_type": "execute_result"
    }
   ],
   "source": [
    "np.linalg.norm(np.array([1,2,1]))"
   ]
  },
  {
   "cell_type": "code",
   "execution_count": 140,
   "metadata": {},
   "outputs": [
    {
     "data": {
      "text/plain": [
       "2.4494897427831779"
      ]
     },
     "execution_count": 140,
     "metadata": {},
     "output_type": "execute_result"
    }
   ],
   "source": [
    "np.sqrt(6)"
   ]
  },
  {
   "cell_type": "code",
   "execution_count": 22,
   "metadata": {},
   "outputs": [
    {
     "data": {
      "text/plain": [
       "(39.84924833168124, 1290.087239415614)"
      ]
     },
     "execution_count": 22,
     "metadata": {},
     "output_type": "execute_result"
    }
   ],
   "source": [
    "np.linalg.norm(x), np.linalg.norm(y)"
   ]
  },
  {
   "cell_type": "code",
   "execution_count": 23,
   "metadata": {},
   "outputs": [
    {
     "data": {
      "text/plain": [
       "1250.6696992541235"
      ]
     },
     "execution_count": 23,
     "metadata": {},
     "output_type": "execute_result"
    }
   ],
   "source": [
    "np.linalg.norm(x-y)"
   ]
  },
  {
   "cell_type": "code",
   "execution_count": 24,
   "metadata": {},
   "outputs": [
    {
     "data": {
      "text/plain": [
       "0.9940830052398306"
      ]
     },
     "execution_count": 24,
     "metadata": {},
     "output_type": "execute_result"
    }
   ],
   "source": [
    "np.corrcoef(x, y)[0,1]"
   ]
  },
  {
   "cell_type": "code",
   "execution_count": 25,
   "metadata": {
    "scrolled": true
   },
   "outputs": [
    {
     "data": {
      "text/plain": [
       "array([100.9138974 , -22.66697873,   3.62437276])"
      ]
     },
     "execution_count": 25,
     "metadata": {},
     "output_type": "execute_result"
    }
   ],
   "source": [
    "X = np.c_[np.ones_like(x), x, x**2]\n",
    "np.linalg.lstsq(X, y, rcond=None)[0]"
   ]
  },
  {
   "cell_type": "markdown",
   "metadata": {},
   "source": [
    "**Note**: Remember to indicate the location of the eigen3 headers using the `-I` flag"
   ]
  },
  {
   "cell_type": "code",
   "execution_count": null,
   "metadata": {},
   "outputs": [],
   "source": []
  },
  {
   "cell_type": "code",
   "execution_count": 19,
   "metadata": {},
   "outputs": [
    {
     "name": "stdout",
     "output_type": "stream",
     "text": [
      "Writing q77.cpp\n"
     ]
    }
   ],
   "source": [
    "%%file q77.cpp\n",
    "\n",
    "\n",
    "#include <iostream>\n",
    "#include <fstream>\n",
    "#include <random>\n",
    "#include <Eigen/Dense>\n",
    "#include <functional>\n",
    "\n",
    "using std::cout;\n",
    "using std::endl;\n",
    "using std::ofstream;\n",
    "        \n",
    "using std::default_random_engine;\n",
    "using std::normal_distribution;\n",
    "using std::bind;\n",
    "        \n",
    "// start random number engine with fixed seed\n",
    "default_random_engine re{12345};\n",
    "\n",
    "normal_distribution<double> norm(5,2); // mean and standard deviation\n",
    "auto rnorm = bind(norm, re);  \n",
    "\n",
    "int main()\n",
    "{\n",
    "  MatrixXd m(2,2);\n",
    "  m(0,0) = 3;\n",
    "  m(1,0) = 2.5;\n",
    "  m(0,1) = -1;\n",
    "  m(1,1) = m(1,0) + m(0,1);\n",
    "  std::cout << m << std::endl;\n",
    "}"
   ]
  },
  {
   "cell_type": "code",
   "execution_count": 22,
   "metadata": {},
   "outputs": [
    {
     "name": "stderr",
     "output_type": "stream",
     "text": [
      "In file included from /usr/include/c++/4.9/random:35:0,\n",
      "                 from q7.cpp:4:\n",
      "/usr/include/c++/4.9/bits/c++0x_warning.h:32:2: error: #error This file requires compiler and library support for the ISO C++ 2011 standard. This support is currently experimental, and must be enabled with the -std=c++11 or -std=gnu++11 compiler options.\n",
      " #error This file requires compiler and library support for the \\\n",
      "  ^\n",
      "q7.cpp:5:23: fatal error: Eigen/Dense: No such file or directory\n",
      " #include <Eigen/Dense>\n",
      "                       ^\n",
      "compilation terminated.\n"
     ]
    }
   ],
   "source": [
    "%%bash\n",
    "\n",
    "g++ q7.cpp -o q7.exe"
   ]
  },
  {
   "cell_type": "code",
   "execution_count": null,
   "metadata": {},
   "outputs": [],
   "source": []
  },
  {
   "cell_type": "code",
   "execution_count": null,
   "metadata": {},
   "outputs": [],
   "source": []
  },
  {
   "cell_type": "code",
   "execution_count": 24,
   "metadata": {},
   "outputs": [
    {
     "name": "stdout",
     "output_type": "stream",
     "text": [
      "Overwriting q7.cpp\n"
     ]
    }
   ],
   "source": [
    "%%file q7.cpp\n",
    "\n",
    "#include <iostream>\n",
    "#include <fstream>\n",
    "#include <random>\n",
    "#include <Eigen/Dense>\n",
    "#include <functional>\n",
    "\n",
    "using std::cout;\n",
    "using std::endl;\n",
    "using std::ofstream;\n",
    "        \n",
    "using std::default_random_engine;\n",
    "using std::normal_distribution;\n",
    "using std::bind;\n",
    "        \n",
    "// start random number engine with fixed seed\n",
    "default_random_engine re{12345};\n",
    "\n",
    "normal_distribution<double> norm(5,2); // mean and standard deviation\n",
    "auto rnorm = bind(norm, re);  \n",
    "                              \n",
    "int main() \n",
    "{\n",
    "    using namespace Eigen;\n",
    "    MatrixXd m(2,2);\n",
    "    m(0,0) = 3;\n",
    "  m(1,0) = 2.5;\n",
    "  m(0,1) = -1;\n",
    "  m(1,1) = m(1,0) + m(0,1);\n",
    "  std::cout << m << std::endl;\n",
    "\n",
    "}"
   ]
  },
  {
   "cell_type": "code",
   "execution_count": 25,
   "metadata": {},
   "outputs": [],
   "source": [
    "%%bash\n",
    "\n",
    "g++ -o q7.exe q7.cpp -std=c++14 -I/usr/include/eigen3\n",
    "\n",
    "\n"
   ]
  },
  {
   "cell_type": "code",
   "execution_count": 27,
   "metadata": {},
   "outputs": [
    {
     "name": "stdout",
     "output_type": "stream",
     "text": [
      "  3  -1\n",
      "2.5 1.5\n"
     ]
    }
   ],
   "source": [
    "%%bash\n",
    "\n",
    "./q7.exe"
   ]
  },
  {
   "cell_type": "code",
   "execution_count": null,
   "metadata": {},
   "outputs": [],
   "source": []
  }
 ],
 "metadata": {
  "kernelspec": {
   "display_name": "Python 3",
   "language": "python",
   "name": "python3"
  },
  "language_info": {
   "codemirror_mode": {
    "name": "ipython",
    "version": 3
   },
   "file_extension": ".py",
   "mimetype": "text/x-python",
   "name": "python",
   "nbconvert_exporter": "python",
   "pygments_lexer": "ipython3",
   "version": "3.6.3"
  }
 },
 "nbformat": 4,
 "nbformat_minor": 2
}
